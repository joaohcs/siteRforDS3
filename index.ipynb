{
  "cells": [
    {
      "cell_type": "raw",
      "metadata": {},
      "source": [
        "---\n",
        "title: \"APS - R para Ciência de Dados\"\n",
        "image: taxi_aps.png\n",
        "about:\n",
        "  template: jolla\n",
        "  image-shape: rectangle\n",
        "  image-width: 15em\n",
        "id: ppc\n",
        "menu:\n",
        "  title: \"center\"\n",
        "\n",
        "---"
      ],
      "id": "e2a3248f"
    },
    {
      "cell_type": "markdown",
      "metadata": {},
      "source": [
        "```{css} \n",
        "  .navbar-brand {\n",
        "    text-align: center;\n",
        "    width: 100%;\n",
        "  }\n",
        "```\n",
        "\n",
        "\n",
        ":::{#ppc}\n",
        "\n",
        "Olá! Bem-vindo(a)!\n",
        "\n",
        "Esse site foi criado para hospedar a APS do Grupo 5 da matéria de R para Ciência de Dados do Insper.\n",
        "\n",
        "Acesse a aba \"APS\" para ver a análise inicial dos dados.\n",
        "\n",
        "Neste trabalho conduzimos um projeto de análise de dados usando o Dataset <strong style=\"font-weight:bold;\">Taxi Trips Chicago 2024</strong> que pode ser encontrada no [Kaggle](https://www.kaggle.com/datasets/adelanseur/taxi-trips-chicago-2024?resource=download).\n",
        "\n",
        "\\\n",
        "\n",
        "<img src=\"logo_insper.png\" style=\"width:150px;\">\n",
        ":::\n"
      ],
      "id": "fb7dfff6"
    }
  ],
  "metadata": {
    "kernelspec": {
      "display_name": "Python 3",
      "language": "python",
      "name": "python3"
    }
  },
  "nbformat": 4,
  "nbformat_minor": 5
}